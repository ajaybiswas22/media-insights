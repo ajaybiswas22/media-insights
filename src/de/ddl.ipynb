{
 "cells": [
  {
   "cell_type": "markdown",
   "metadata": {},
   "source": [
    "%sql\n",
    "CREATE TABLE IF NOT EXISTS\n",
    "SAMPLE (\n",
    "    ID STRING COMMENT 'ID column'\n",
    ")"
   ]
  }
 ],
 "metadata": {
  "kernelspec": {
   "display_name": "Python 3",
   "language": "python",
   "name": "python3"
  },
  "language_info": {
   "name": "python",
   "version": "3.13.2"
  }
 },
 "nbformat": 4,
 "nbformat_minor": 2
}
